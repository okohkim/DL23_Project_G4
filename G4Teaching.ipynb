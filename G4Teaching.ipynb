{
  "nbformat": 4,
  "nbformat_minor": 0,
  "metadata": {
    "colab": {
      "provenance": [],
      "authorship_tag": "ABX9TyO/ItoJNQ3cvCKFucyczMHB",
      "include_colab_link": true
    },
    "kernelspec": {
      "name": "python3",
      "display_name": "Python 3"
    },
    "language_info": {
      "name": "python"
    }
  },
  "cells": [
    {
      "cell_type": "markdown",
      "metadata": {
        "id": "view-in-github",
        "colab_type": "text"
      },
      "source": [
        "<a href=\"https://colab.research.google.com/github/okohkim/DL23_Project_G4/blob/main/G4Teaching.ipynb\" target=\"_parent\"><img src=\"https://colab.research.google.com/assets/colab-badge.svg\" alt=\"Open In Colab\"/></a>"
      ]
    },
    {
      "cell_type": "markdown",
      "source": [
        "#1. Preview of the content to be learned during class"
      ],
      "metadata": {
        "id": "iKDpq29KywGp"
      }
    },
    {
      "cell_type": "code",
      "execution_count": 60,
      "metadata": {
        "colab": {
          "base_uri": "https://localhost:8080/",
          "height": 321
        },
        "id": "9cFHv2vqjHfT",
        "outputId": "6994b549-eba4-473f-e931-2e37a99f2ec2"
      },
      "outputs": [
        {
          "output_type": "display_data",
          "data": {
            "text/plain": [
              "<IPython.lib.display.YouTubeVideo at 0x7fc0c35d7b80>"
            ],
            "text/html": [
              "\n",
              "        <iframe\n",
              "            width=\"500\"\n",
              "            height=\"300\"\n",
              "            src=\"https://www.youtube.com/embed/zTEztmWRa5c\"\n",
              "            frameborder=\"0\"\n",
              "            allowfullscreen\n",
              "            \n",
              "        ></iframe>\n",
              "        "
            ],
            "image/jpeg": "[encoded data removed]"
          },
          "metadata": {}
        }
      ],
      "source": [
        "#@markdown Let's watch the video!\n",
        "from IPython.display import YouTubeVideo, display\n",
        "video = YouTubeVideo(\"zTEztmWRa5c\", width=500)\n",
        "display(video)"
      ]
    },
    {
      "cell_type": "markdown",
      "source": [
        "#2. 20 words used at a store"
      ],
      "metadata": {
        "id": "m6dDS-5by3cY"
      }
    },
    {
      "cell_type": "code",
      "source": [
        "#@markdown #Words List!\n",
        "word_list = [\n",
        "    ('carrot', '당근'),\n",
        "    ('spinach', '시금치'),\n",
        "    ('watermelon', '수박'),\n",
        "    ('peach', '복숭아'),\n",
        "    ('grape', '포도'),\n",
        "    ('buy', '사다'),\n",
        "    ('purchase', '구매하다'),\n",
        "    ('pound', '파운드'),\n",
        "    ('price', '가격'),\n",
        "    ('pay', '지불하다'),\n",
        "    ('credit card', '신용카드'),\n",
        "    ('cash', '현금'),\n",
        "    ('change', '거스름돈'),\n",
        "    ('sale', '세일', '할인하다'),\n",
        "    ('size', '크기'),\n",
        "    ('color', '색깔'),\n",
        "    ('receipt', '영수증'),\n",
        "    ('debit card', '체크카드'),\n",
        "    ('green onion', '파'),\n",
        "    ('customer', '손님')\n",
        "]\n",
        "word_list"
      ],
      "metadata": {
        "cellView": "form",
        "colab": {
          "base_uri": "https://localhost:8080/"
        },
        "id": "eC0TN4Z1RpKx",
        "outputId": "c2f1a498-c0a0-491e-b484-8b7346a59025"
      },
      "execution_count": 43,
      "outputs": [
        {
          "output_type": "execute_result",
          "data": {
            "text/plain": [
              "[('carrot', '당근'),\n",
              " ('spinach', '시금치'),\n",
              " ('watermelon', '수박'),\n",
              " ('peach', '복숭아'),\n",
              " ('grape', '포도'),\n",
              " ('buy', '사다'),\n",
              " ('purchase', '구매하다'),\n",
              " ('pound', '파운드'),\n",
              " ('price', '가격'),\n",
              " ('pay', '지불하다'),\n",
              " ('credit card', '신용카드'),\n",
              " ('cash', '현금'),\n",
              " ('change', '거스름돈'),\n",
              " ('sale', '세일', '할인하다'),\n",
              " ('size', '크기'),\n",
              " ('color', '색깔'),\n",
              " ('receipt', '영수증'),\n",
              " ('debit card', '체크카드'),\n",
              " ('green onion', '파'),\n",
              " ('customer', '손님')]"
            ]
          },
          "metadata": {},
          "execution_count": 43
        }
      ]
    },
    {
      "cell_type": "code",
      "source": [
        "#@markdown #Let's play word game!\n",
        "%%capture\n",
        "import csv\n",
        "\n",
        "def read_flashcards(filename):\n",
        "    flashcards = []\n",
        "    with open(filename, mode='r', encoding='utf-8') as csvfile:\n",
        "        csvreader = csv.reader(csvfile)\n",
        "        for row in csvreader:\n",
        "            flashcards.append((row[0], row[1]))\n",
        "    return flashcards\n",
        "\n",
        "def write_flashcards(flashcards, filename):\n",
        "    with open(filename, mode='w', encoding='utf-8', newline='') as csvfile:\n",
        "        csvwriter = csv.writer(csvfile)\n",
        "        for card in flashcards:\n",
        "            csvwriter.writerow(card)\n",
        "\n",
        "# Add more word pairs here\n",
        "def main():\n",
        "    flashcards = [\n",
        "        ('carrot', '당근'),\n",
        "        ('spinach', '시금치'),\n",
        "        ('watermelon', '수박'),\n",
        "        ('peach','복숭아'),\n",
        "        ('grape','포도'),\n",
        "        ('buy','사다'),\n",
        "        ('purchase','구매하다'),\n",
        "        ('pound','파운드'),\n",
        "        ('price','가격'),\n",
        "        ('pay','지불하다'),\n",
        "        ('credit card','신용카드'),\n",
        "        ('cash','현금'),\n",
        "        ('change','거스름돈'),\n",
        "        ('sale','세일''할인하다'),\n",
        "        ('size','크기'),\n",
        "        ('color','색깔'),\n",
        "        ('receipt','영수증'),\n",
        "        ('debit card','체크카드'),\n",
        "        ('green onion','파'),\n",
        "        ('customer','손님')\n",
        "    ]\n",
        "\n",
        "    # Write flashcards to file\n",
        "    write_flashcards(flashcards, 'flashcards.csv')\n",
        "\n",
        "    # Read flashcards from file\n",
        "    loaded_flashcards = read_flashcards('flashcards.csv')\n",
        "    print(loaded_flashcards)\n",
        "\n",
        "if __name__ == '__main__':\n",
        "    main()"
      ],
      "metadata": {
        "cellView": "form",
        "id": "NUrKtHdkLUr3"
      },
      "execution_count": 40,
      "outputs": []
    },
    {
      "cell_type": "code",
      "source": [
        "#@markdown Start game\n",
        "import random\n",
        "\n",
        "def read_flashcards(filename):\n",
        "    flashcards = []\n",
        "    with open(filename, mode='r', encoding='utf-8') as csvfile:\n",
        "        csvreader = csv.reader(csvfile)\n",
        "        for row in csvreader:\n",
        "            flashcards.append((row[0], row[1].split(', ')))\n",
        "    return flashcards\n",
        "\n",
        "def print_yellow_box(word, width=20):\n",
        "    print(\"█\" * (width + 2))\n",
        "    padding = (width - len(word)) // 2\n",
        "    print(\"█\" + \" \" * padding + word + \" \" * (width - len(word) - padding) + \"█\")\n",
        "    print(\"█\" * (width + 2))\n",
        "\n",
        "def game(flashcards):\n",
        "    total_questions = len(flashcards)\n",
        "    correct_answers = 0\n",
        "\n",
        "    for word, translations in flashcards:\n",
        "        print(\"\\nTranslate the following word:\")\n",
        "        print_yellow_box(word)\n",
        "\n",
        "        user_input = input(\"> \")\n",
        "\n",
        "        if user_input.lower() in [t.lower() for t in translations]:\n",
        "            print(\"Correct!\")\n",
        "            correct_answers += 1\n",
        "        else:\n",
        "            print(f\"Wrong! The correct translations are: {', '.join(translations)}\")\n",
        "\n",
        "    print(f\"\\nYour score: {correct_answers}/{total_questions}\")\n",
        "\n",
        "def main():\n",
        "    flashcards = read_flashcards('flashcards.csv')\n",
        "    random.shuffle(flashcards)\n",
        "    print(\"Welcome to the Flashcard Game! Let's start:\")\n",
        "    game(flashcards)\n",
        "\n",
        "if __name__ == '__main__':\n",
        "    main()"
      ],
      "metadata": {
        "colab": {
          "base_uri": "https://localhost:8080/"
        },
        "id": "gSjRSLfbk9NP",
        "outputId": "c1849e89-9b37-4a39-ef17-0a9132f5368f",
        "cellView": "form"
      },
      "execution_count": 41,
      "outputs": [
        {
          "output_type": "stream",
          "name": "stdout",
          "text": [
            "Welcome to the Flashcard Game! Let's start:\n",
            "\n",
            "Translate the following word:\n",
            "██████████████████████\n",
            "█       peach        █\n",
            "██████████████████████\n",
            "> 복싱다\n",
            "Wrong! The correct translations are: 복숭아\n",
            "\n",
            "Translate the following word:\n",
            "██████████████████████\n",
            "█        buy         █\n",
            "██████████████████████\n",
            "> 사다\n",
            "Correct!\n",
            "\n",
            "Translate the following word:\n",
            "██████████████████████\n",
            "█     debit card     █\n",
            "██████████████████████\n",
            "> 신용\n",
            "Wrong! The correct translations are: 체크카드\n",
            "\n",
            "Translate the following word:\n",
            "██████████████████████\n",
            "█        cash        █\n",
            "██████████████████████\n",
            "> 금\n",
            "Wrong! The correct translations are: 현금\n",
            "\n",
            "Translate the following word:\n",
            "██████████████████████\n",
            "█    credit card     █\n",
            "██████████████████████\n",
            "> 아\n",
            "Wrong! The correct translations are: 신용카드\n",
            "\n",
            "Translate the following word:\n",
            "██████████████████████\n",
            "█        size        █\n",
            "██████████████████████\n",
            "> 이\n",
            "Wrong! The correct translations are: 크기\n",
            "\n",
            "Translate the following word:\n",
            "██████████████████████\n",
            "█      purchase      █\n",
            "██████████████████████\n",
            "> 스\n",
            "Wrong! The correct translations are: 구매하다\n",
            "\n",
            "Translate the following word:\n",
            "██████████████████████\n",
            "█      receipt       █\n",
            "██████████████████████\n",
            "> 티\n",
            "Wrong! The correct translations are: 영수증\n",
            "\n",
            "Translate the following word:\n",
            "██████████████████████\n",
            "█        sale        █\n",
            "██████████████████████\n",
            "> 나\n",
            "Wrong! The correct translations are: 세일할인하다\n",
            "\n",
            "Translate the following word:\n",
            "██████████████████████\n",
            "█       price        █\n",
            "██████████████████████\n",
            "> ㅣ\n",
            "Wrong! The correct translations are: 가격\n",
            "\n",
            "Translate the following word:\n",
            "██████████████████████\n",
            "█    green onion     █\n",
            "██████████████████████\n",
            "> 스\n",
            "Wrong! The correct translations are: 파\n",
            "\n",
            "Translate the following word:\n",
            "██████████████████████\n",
            "█      spinach       █\n",
            "██████████████████████\n",
            "> 샷\n",
            "Wrong! The correct translations are: 시금치\n",
            "\n",
            "Translate the following word:\n",
            "██████████████████████\n",
            "█       carrot       █\n",
            "██████████████████████\n",
            "> 아\n",
            "Wrong! The correct translations are: 당근\n",
            "\n",
            "Translate the following word:\n",
            "██████████████████████\n",
            "█       color        █\n",
            "██████████████████████\n",
            "> ㅅ\n",
            "Wrong! The correct translations are: 색깔\n",
            "\n",
            "Translate the following word:\n",
            "██████████████████████\n",
            "█       pound        █\n",
            "██████████████████████\n",
            "> 츄\n",
            "Wrong! The correct translations are: 파운드\n",
            "\n",
            "Translate the following word:\n",
            "██████████████████████\n",
            "█       grape        █\n",
            "██████████████████████\n",
            "> 밤\n",
            "Wrong! The correct translations are: 포도\n",
            "\n",
            "Translate the following word:\n",
            "██████████████████████\n",
            "█     watermelon     █\n",
            "██████████████████████\n",
            "> 없ㅇ\n",
            "Wrong! The correct translations are: 수박\n",
            "\n",
            "Translate the following word:\n",
            "██████████████████████\n",
            "█       change       █\n",
            "██████████████████████\n",
            "> 어\n",
            "Wrong! The correct translations are: 거스름돈\n",
            "\n",
            "Translate the following word:\n",
            "██████████████████████\n",
            "█      customer      █\n",
            "██████████████████████\n",
            "> 요\n",
            "Wrong! The correct translations are: 손님\n",
            "\n",
            "Translate the following word:\n",
            "██████████████████████\n",
            "█        pay         █\n",
            "██████████████████████\n",
            "> 마\n",
            "Wrong! The correct translations are: 지불하다\n",
            "\n",
            "Your score: 1/20\n"
          ]
        }
      ]
    },
    {
      "cell_type": "markdown",
      "source": [
        "#3. Learning sentences which are used at a store to buy something"
      ],
      "metadata": {
        "id": "UxFHVXRHyfJp"
      }
    },
    {
      "cell_type": "code",
      "source": [
        "#@markdown #Listen and Make Sentences!\n",
        "%%capture\n",
        "!pip install gradio\n"
      ],
      "metadata": {
        "cellView": "form",
        "id": "gC9mMTInNkpG"
      },
      "execution_count": 48,
      "outputs": []
    },
    {
      "cell_type": "code",
      "source": [
        "#@markdown \n",
        "import gradio as gr\n",
        "from gtts import gTTS\n",
        "from pydub import AudioSegment\n",
        "import os\n",
        "\n",
        "def text_to_speech(text):\n",
        "    tts = gTTS(text=text, lang='en')\n",
        "    mp3_filename = \"voice.mp3\"\n",
        "    wav_filename = \"voice.wav\"\n",
        "    tts.save(mp3_filename)\n",
        "\n",
        "    # Convert from MP3 to WAV\n",
        "    audio = AudioSegment.from_mp3(mp3_filename)\n",
        "    audio.export(wav_filename, format=\"wav\")\n",
        "\n",
        "    return wav_filename\n",
        "\n",
        "iface = gr.Interface(fn=text_to_speech, \n",
        "                     inputs=gr.inputs.Textbox(), \n",
        "                     outputs=gr.outputs.Audio(type=\"filepath\"))\n",
        "iface.launch(share=True)\n"
      ],
      "metadata": {
        "id": "jGRxkdMtyiax",
        "cellView": "form",
        "colab": {
          "base_uri": "https://localhost:8080/",
          "height": 757
        },
        "outputId": "0c1c52ea-5964-43c5-b595-95cdb806939c"
      },
      "execution_count": 47,
      "outputs": [
        {
          "output_type": "stream",
          "name": "stderr",
          "text": [
            "/usr/local/lib/python3.10/dist-packages/gradio/inputs.py:27: UserWarning: Usage of gradio.inputs is deprecated, and will not be supported in the future, please import your component from gradio.components\n",
            "  warnings.warn(\n",
            "/usr/local/lib/python3.10/dist-packages/gradio/inputs.py:30: UserWarning: `optional` parameter is deprecated, and it has no effect\n",
            "  super().__init__(\n",
            "/usr/local/lib/python3.10/dist-packages/gradio/inputs.py:30: UserWarning: `numeric` parameter is deprecated, and it has no effect\n",
            "  super().__init__(\n",
            "/usr/local/lib/python3.10/dist-packages/gradio/outputs.py:81: UserWarning: Usage of gradio.outputs is deprecated, and will not be supported in the future, please import your components from gradio.components\n",
            "  warnings.warn(\n"
          ]
        },
        {
          "output_type": "stream",
          "name": "stdout",
          "text": [
            "Colab notebook detected. To show errors in colab notebook, set debug=True in launch()\n",
            "Running on public URL: https://ed86b0c948edb8d5a1.gradio.live\n",
            "\n",
            "This share link expires in 72 hours. For free permanent hosting and GPU upgrades, run `gradio deploy` from Terminal to deploy to Spaces (https://huggingface.co/spaces)\n"
          ]
        },
        {
          "output_type": "display_data",
          "data": {
            "text/plain": [
              "<IPython.core.display.HTML object>"
            ],
            "text/html": [
              "<div><iframe src=\"https://ed86b0c948edb8d5a1.gradio.live\" width=\"100%\" height=\"500\" allow=\"autoplay; camera; microphone; clipboard-read; clipboard-write;\" frameborder=\"0\" allowfullscreen></iframe></div>"
            ]
          },
          "metadata": {}
        },
        {
          "output_type": "execute_result",
          "data": {
            "text/plain": []
          },
          "metadata": {},
          "execution_count": 47
        }
      ]
    },
    {
      "cell_type": "code",
      "source": [
        "#@markdown Install {pyqrcode} and enter link address\n",
        "%%capture\n",
        "!pip install pyqrcode\n",
        "\n",
        "import pyqrcode\n",
        "from pyqrcode import QRCode\n"
      ],
      "metadata": {
        "cellView": "form",
        "id": "2HMVxkyOVQlG"
      },
      "execution_count": 55,
      "outputs": []
    },
    {
      "cell_type": "code",
      "source": [
        "#@markdown Enter the link, save it as a file, and display\n",
        "s = input(\"Paste the link: \")\n",
        "\n",
        "# Generate QR code\n",
        "url = pyqrcode.create(s)\n",
        "\n",
        "# Create and save the png file naming \"myqr.png\"\n",
        "url.svg(\"myqrcode.svg\", scale=10)\n",
        "\n",
        "from IPython.display import SVG, display\n",
        "def show_svg(file):\n",
        "    display(SVG(file))\n",
        "\n",
        "show_svg(\"myqrcode.svg\")"
      ],
      "metadata": {
        "cellView": "form",
        "id": "7GfA9e3fXtN1",
        "outputId": "8dac401e-1b00-4071-dab9-26095cf621fe",
        "colab": {
          "base_uri": "https://localhost:8080/",
          "height": 329
        }
      },
      "execution_count": 54,
      "outputs": [
        {
          "name": "stdout",
          "output_type": "stream",
          "text": [
            "Paste the link: d\n"
          ]
        },
        {
          "output_type": "display_data",
          "data": {
            "text/plain": [
              "<IPython.core.display.SVG object>"
            ],
            "image/svg+xml": "<svg xmlns=\"http://www.w3.org/2000/svg\" height=\"290\" width=\"290\" class=\"pyqrcode\"><path transform=\"scale(10)\" stroke=\"#000\" class=\"pyqrline\" d=\"M4 4.5h7m1 0h1m1 0h1m3 0h7m-21 1h1m5 0h1m2 0h1m1 0h1m2 0h1m5 0h1m-21 1h1m1 0h3m1 0h1m4 0h1m2 0h1m1 0h3m1 0h1m-21 1h1m1 0h3m1 0h1m1 0h5m1 0h1m1 0h3m1 0h1m-21 1h1m1 0h3m1 0h1m3 0h2m2 0h1m1 0h3m1 0h1m-21 1h1m5 0h1m4 0h2m1 0h1m5 0h1m-21 1h7m1 0h1m1 0h1m1 0h1m1 0h7m-11 1h1m-9 1h1m1 0h3m1 0h2m2 0h2m3 0h1m2 0h1m-21 1h1m4 0h1m1 0h1m2 0h1m1 0h1m5 0h2m-20 1h2m1 0h1m2 0h1m1 0h1m1 0h1m1 0h1m3 0h1m3 0h1m-16 1h1m1 0h1m6 0h1m3 0h2m-19 1h7m1 0h2m1 0h2m2 0h1m1 0h3m-13 1h1m3 0h1m2 0h1m1 0h1m1 0h2m-21 1h7m3 0h1m1 0h1m1 0h2m1 0h4m-21 1h1m5 0h1m1 0h1m1 0h1m1 0h1m2 0h3m-18 1h1m1 0h3m1 0h1m1 0h1m2 0h1m2 0h2m1 0h2m1 0h1m-21 1h1m1 0h3m1 0h1m2 0h1m8 0h2m-20 1h1m1 0h3m1 0h1m1 0h1m3 0h2m2 0h1m3 0h1m-21 1h1m5 0h1m2 0h1m3 0h1m4 0h2m-20 1h7m3 0h2m1 0h2m1 0h1m1 0h3\"/></svg>"
          },
          "metadata": {}
        }
      ]
    },
    {
      "cell_type": "markdown",
      "source": [
        "#4. Sharing answers"
      ],
      "metadata": {
        "id": "i97l5MubVHZg"
      }
    }
  ]
}